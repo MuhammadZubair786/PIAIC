{
 "cells": [
  {
   "cell_type": "code",
   "execution_count": 1,
   "metadata": {},
   "outputs": [],
   "source": [
    "def city_country(city=\" \",country=\" \"):\n",
    "    return city+\",\"+country\n",
    "\n",
    "\n",
    "    "
   ]
  },
  {
   "cell_type": "code",
   "execution_count": 6,
   "metadata": {},
   "outputs": [
    {
     "name": "stdout",
     "output_type": "stream",
     "text": [
      "Enter City :hyd\n",
      "Enter Countrypak\n"
     ]
    },
    {
     "data": {
      "text/plain": [
       "'hyd,pak'"
      ]
     },
     "execution_count": 6,
     "metadata": {},
     "output_type": "execute_result"
    }
   ],
   "source": [
    "city=input(\"Enter City :\")\n",
    "country=input(\"Enter Country\")\n",
    "city_country(city,country)"
   ]
  },
  {
   "cell_type": "code",
   "execution_count": 7,
   "metadata": {},
   "outputs": [],
   "source": [
    "def make_shirt(size,text):\n",
    "    print(f\"Shirt Size : {size}\\nText On Shirt :{text}\")\n",
    "    \n",
    "    "
   ]
  },
  {
   "cell_type": "markdown",
   "metadata": {},
   "source": [
    "# Positional Arugment"
   ]
  },
  {
   "cell_type": "code",
   "execution_count": 8,
   "metadata": {},
   "outputs": [
    {
     "name": "stdout",
     "output_type": "stream",
     "text": [
      "Shirt Size : 20\n",
      "Text On Shirt :You read My T_Shirt\n"
     ]
    }
   ],
   "source": [
    "make_shirt(20,\"You read My T_Shirt\")"
   ]
  },
  {
   "cell_type": "markdown",
   "metadata": {},
   "source": [
    "# KeyWord Arugment"
   ]
  },
  {
   "cell_type": "code",
   "execution_count": 9,
   "metadata": {},
   "outputs": [
    {
     "name": "stdout",
     "output_type": "stream",
     "text": [
      "Shirt Size : 20\n",
      "Text On Shirt :You read My T_Shirt\n"
     ]
    }
   ],
   "source": [
    "make_shirt(text=\"You read My T_Shirt\",size=\"20\")"
   ]
  },
  {
   "cell_type": "markdown",
   "metadata": {},
   "source": [
    "# Default Arugment"
   ]
  },
  {
   "cell_type": "code",
   "execution_count": 7,
   "metadata": {},
   "outputs": [],
   "source": [
    "def describe_city(city=\"hyderabad\",country=\"Pakistan\"):\n",
    "    print(f\"{city} is in {country}\")"
   ]
  },
  {
   "cell_type": "code",
   "execution_count": 6,
   "metadata": {},
   "outputs": [
    {
     "name": "stdout",
     "output_type": "stream",
     "text": [
      "hyderabad is in Pakistan\n"
     ]
    }
   ],
   "source": [
    "describe_city()"
   ]
  },
  {
   "cell_type": "code",
   "execution_count": 8,
   "metadata": {},
   "outputs": [
    {
     "name": "stdout",
     "output_type": "stream",
     "text": [
      "karachi is in Pakistan\n"
     ]
    }
   ],
   "source": [
    "describe_city(\"karachi\")"
   ]
  },
  {
   "cell_type": "code",
   "execution_count": 10,
   "metadata": {},
   "outputs": [
    {
     "name": "stdout",
     "output_type": "stream",
     "text": [
      "mumbai is in india\n"
     ]
    }
   ],
   "source": [
    "describe_city(\"mumbai\",\"india\")"
   ]
  },
  {
   "cell_type": "code",
   "execution_count": 11,
   "metadata": {},
   "outputs": [
    {
     "name": "stdout",
     "output_type": "stream",
     "text": [
      "Riyadh is in Saudia\n"
     ]
    }
   ],
   "source": [
    "describe_city(city=\"Riyadh\",country=\"Saudia\")"
   ]
  },
  {
   "cell_type": "code",
   "execution_count": 12,
   "metadata": {},
   "outputs": [
    {
     "name": "stdout",
     "output_type": "stream",
     "text": [
      "London is in England\n"
     ]
    }
   ],
   "source": [
    "describe_city(country=\"England\",city=\"London\")"
   ]
  },
  {
   "cell_type": "markdown",
   "metadata": {},
   "source": [
    "# factorial Function In Python"
   ]
  },
  {
   "cell_type": "code",
   "execution_count": 22,
   "metadata": {},
   "outputs": [],
   "source": [
    "def fact(a):\n",
    "    j = 1\n",
    "    for i in range(a,0,-1):\n",
    "        j =j * i\n",
    "    return f\"The Factorial Of {a} is : {j}\"\n",
    "        "
   ]
  },
  {
   "cell_type": "code",
   "execution_count": 23,
   "metadata": {},
   "outputs": [
    {
     "name": "stdout",
     "output_type": "stream",
     "text": [
      "Enter Number For Fabonic Series : 5\n",
      "The Factorial Of 5 is : 120\n"
     ]
    }
   ],
   "source": [
    "print(fact(int(input(\"Enter Number For Find The factorial : \"))))"
   ]
  },
  {
   "cell_type": "markdown",
   "metadata": {},
   "source": [
    "# Fabonic Series In Python"
   ]
  },
  {
   "cell_type": "code",
   "execution_count": 29,
   "metadata": {},
   "outputs": [],
   "source": [
    "def fab(n):\n",
    "    sum=0\n",
    "    j =[]\n",
    "    a=0\n",
    "    b=1\n",
    "    j.append(a)\n",
    "    j.append(b)\n",
    "    for i in range(0,n-2):\n",
    "        sum = a+b\n",
    "        a = b\n",
    "        b = sum\n",
    "        j.append(b)\n",
    "    return j\n",
    "        "
   ]
  },
  {
   "cell_type": "code",
   "execution_count": 34,
   "metadata": {},
   "outputs": [
    {
     "name": "stdout",
     "output_type": "stream",
     "text": [
      "Enter Length Of Fabonic Series : 15\n"
     ]
    },
    {
     "data": {
      "text/plain": [
       "[0, 1, 1, 2, 3, 5, 8, 13, 21, 34, 55, 89, 144, 233, 377]"
      ]
     },
     "execution_count": 34,
     "metadata": {},
     "output_type": "execute_result"
    }
   ],
   "source": [
    "fab(int(input(\"Enter Length Of Fabonic Series : \")))"
   ]
  },
  {
   "cell_type": "code",
   "execution_count": 55,
   "metadata": {},
   "outputs": [],
   "source": [
    "def sqr(l):\n",
    "    l2=[]\n",
    "    for i in range(0,len(l)):\n",
    "        l2.append(l[i]*2)\n",
    "\n",
    "    return l2\n",
    "        "
   ]
  },
  {
   "cell_type": "code",
   "execution_count": 59,
   "metadata": {},
   "outputs": [
    {
     "name": "stdout",
     "output_type": "stream",
     "text": [
      "List 1 :[1, 2, 3]\n",
      "Square Of List 1 : [2, 4, 6]\n"
     ]
    }
   ],
   "source": [
    "lst=[1,2,3]\n",
    "a=sqr(lst)\n",
    "print(f\"List 1 :{lst}\")\n",
    "print(f\"Square Of List 1 : {a}\")"
   ]
  },
  {
   "cell_type": "code",
   "execution_count": null,
   "metadata": {},
   "outputs": [],
   "source": []
  }
 ],
 "metadata": {
  "kernelspec": {
   "display_name": "Python 3",
   "language": "python",
   "name": "python3"
  },
  "language_info": {
   "codemirror_mode": {
    "name": "ipython",
    "version": 3
   },
   "file_extension": ".py",
   "mimetype": "text/x-python",
   "name": "python",
   "nbconvert_exporter": "python",
   "pygments_lexer": "ipython3",
   "version": "3.7.4"
  }
 },
 "nbformat": 4,
 "nbformat_minor": 2
}
