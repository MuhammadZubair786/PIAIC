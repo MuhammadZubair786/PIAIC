{
 "cells": [
  {
   "cell_type": "code",
   "execution_count": 2,
   "metadata": {},
   "outputs": [
    {
     "name": "stdout",
     "output_type": "stream",
     "text": [
      "['1', 'zubair', '20']\n"
     ]
    }
   ],
   "source": [
    "import csv\n",
    "with open(\"new.csv\") as f:\n",
    "    cont=csv.reader(f)\n",
    "    for con in cont:\n",
    "        print(con)"
   ]
  },
  {
   "cell_type": "code",
   "execution_count": 6,
   "metadata": {},
   "outputs": [],
   "source": [
    "import csv\n",
    "with open(\"new.csv\",\"w\",newline=\"   \") as f:\n",
    "    fw=csv.writer(f)\n",
    "    fw.writerow(['1','asad',20])"
   ]
  },
  {
   "cell_type": "code",
   "execution_count": 7,
   "metadata": {},
   "outputs": [],
   "source": [
    "import csv\n",
    "with open(\"new.csv\",\"a\",newline=\"\") as f:\n",
    "    fw=csv.writer(f)\n",
    "    fw.writerow(['2','zubair',20])"
   ]
  },
  {
   "cell_type": "code",
   "execution_count": 8,
   "metadata": {},
   "outputs": [
    {
     "name": "stdout",
     "output_type": "stream",
     "text": [
      "['1', 'asad', '20']\n",
      "['2', 'zubair', '20']\n",
      "['3', 'omer', '25']\n"
     ]
    }
   ],
   "source": [
    "import csv\n",
    "with open(\"new.csv\") as f:\n",
    "    cont=csv.reader(f)\n",
    "    for con in cont:\n",
    "        print(con)"
   ]
  },
  {
   "cell_type": "code",
   "execution_count": null,
   "metadata": {},
   "outputs": [],
   "source": []
  }
 ],
 "metadata": {
  "kernelspec": {
   "display_name": "Python 3",
   "language": "python",
   "name": "python3"
  },
  "language_info": {
   "codemirror_mode": {
    "name": "ipython",
    "version": 3
   },
   "file_extension": ".py",
   "mimetype": "text/x-python",
   "name": "python",
   "nbconvert_exporter": "python",
   "pygments_lexer": "ipython3",
   "version": "3.7.4"
  }
 },
 "nbformat": 4,
 "nbformat_minor": 2
}
