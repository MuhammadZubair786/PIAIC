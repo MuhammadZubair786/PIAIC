{
 "cells": [
  {
   "cell_type": "code",
   "execution_count": 25,
   "metadata": {},
   "outputs": [
    {
     "name": "stdout",
     "output_type": "stream",
     "text": [
      "TASK NO 1\n",
      "Q 1) Calcuate Area ofa Circle \n",
      "\n",
      "ENTER PLEASE RADIUS :0.5\n",
      "Area of Circle with radius 0.5 is : 0.785\n"
     ]
    }
   ],
   "source": [
    "print(\"TASK NO 1\\nQ 1) Calcuate Area ofa Circle \\n\")\n",
    "radius=float(input(\"ENTER PLEASE RADIUS :\"))\n",
    "Area=3.14*radius**2\n",
    "print(f\"Area of Circle with radius {radius} is : {Area}\")\n"
   ]
  },
  {
   "cell_type": "code",
   "execution_count": 28,
   "metadata": {},
   "outputs": [
    {
     "name": "stdout",
     "output_type": "stream",
     "text": [
      "Task No 2\n",
      "Q 2) Check Number either positve, negative or zero \n",
      "\n",
      "Enter Number :4\n",
      "Positive Number Enter\n"
     ]
    }
   ],
   "source": [
    "print(\"Task No 2\\nQ 2) Check Number either positve, negative or zero \\n\")\n",
    "num=int(input(\"Enter Number :\"))\n",
    "if num > 0 :\n",
    "    print(\"Positive Number Enter\")\n",
    "elif num == 0:\n",
    "    print(\"zero Enter\")\n",
    "else :\n",
    "    print(\"Negative Number Enter\")"
   ]
  },
  {
   "cell_type": "code",
   "execution_count": 31,
   "metadata": {},
   "outputs": [
    {
     "name": "stdout",
     "output_type": "stream",
     "text": [
      "Task No 3\n",
      " Q3) Divsiblty Check of two numbers \n",
      "\n",
      "Enter numerator :5\n",
      "Enter Denominator:2\n",
      "Number 5 is not Completly divsible by 2\n"
     ]
    }
   ],
   "source": [
    "print(\"Task No 3\\n Q3) Divsiblty Check of two numbers \\n\")\n",
    "n=int(input(\"Enter numerator :\"))\n",
    "d=int(input(\"Enter Denominator:\"))\n",
    "if n % 2 == 0 :\n",
    "    print(f\"Number {n} is Completly divsible by {d}\")\n",
    "else:\n",
    "    print(f\"Number {n} is not Completly divsible by {d}\")"
   ]
  },
  {
   "cell_type": "code",
   "execution_count": 60,
   "metadata": {},
   "outputs": [
    {
     "name": "stdout",
     "output_type": "stream",
     "text": [
      "Task No 4\n",
      " Q4) Days Calcuator\n",
      "\n",
      "Enter date in (d/m/y) formate and input seprate by / :31/12/2020\n",
      "Enter date in (d/m/y) formate and input seprate by / :1/1/2021\n",
      "1 days\n"
     ]
    }
   ],
   "source": [
    "print(\"Task No 4\\n Q4) Days Calcuator\\n\")\n",
    "\n",
    "from datetime import datetime\n",
    "\n",
    "date_format = \"%d/%m/%Y\"\n",
    " \n",
    "d1,m1,y1=input(\"Enter date in (d/m/y) formate and input seprate by / :\").split(\"/\")\n",
    "d2,m2,y2=input(\"Enter date in (d/m/y) formate and input seprate by / :\").split(\"/\")\n",
    "\n",
    "\n",
    "m4=f\"{m1}/{m2}/{m3}\"\n",
    "a = datetime.strptime(f\"{d1}/{m1}/{y1}\", date_format)\n",
    "b = datetime.strptime(f\"{d2}/{m2}/{y2}\", date_format)\n",
    "delta = b - a\n",
    " \n",
    "print(delta.days,\"days\")"
   ]
  },
  {
   "cell_type": "code",
   "execution_count": 62,
   "metadata": {},
   "outputs": [
    {
     "name": "stdout",
     "output_type": "stream",
     "text": [
      "Task N0 5\n",
      "Q 5) Days Calcuator\n",
      "\n",
      "2/10/2010\n",
      "3/11/2010\n",
      "32 days\n"
     ]
    }
   ],
   "source": [
    "print(\"Task N0 4\\nQ 4) Days Calcuator\\n\")\n",
    "from datetime import datetime\n",
    "d1=input()\n",
    "d2=input()\n",
    "a = datetime.strptime(d1,\"%d/%m/%Y\")\n",
    "b = datetime.strptime( d2 ,\"%d/%m/%Y\")\n",
    "delta = b - a\n",
    " \n",
    "print(delta.days,\"days\")"
   ]
  },
  {
   "cell_type": "code",
   "execution_count": 65,
   "metadata": {},
   "outputs": [
    {
     "name": "stdout",
     "output_type": "stream",
     "text": [
      "Task No 5\n",
      "Q 5) Calculate volume of a sphere\n",
      "\n",
      "Enter Radius of Sphere :1\n",
      "Volume ofthe Spher with Radius 1 is : 4.1866666666666665\n"
     ]
    }
   ],
   "source": [
    "print(\"Task No 5\\nQ 5) Calculate volume of a sphere\\n\")\n",
    "radius=int(input(\"Enter Radius of Sphere :\"))\n",
    "Vol=4/3*3.14*radius**3\n",
    "print(f\"Volume ofthe Spher with Radius {radius} is : {Vol}\") "
   ]
  },
  {
   "cell_type": "code",
   "execution_count": 68,
   "metadata": {},
   "outputs": [
    {
     "name": "stdout",
     "output_type": "stream",
     "text": [
      "Task No 6\n",
      "Q 6) Copy string times \n",
      "\n",
      "Enter String:hi\n",
      "How many copies of String you need:4\n",
      "4 Copies of hi are hihihihi\n"
     ]
    }
   ],
   "source": [
    "print(\"Task No 6\\nQ 6) Copy string times \\n\")\n",
    "st=input(\"Enter String:\")\n",
    "cp=int(input(\"How many copies of String you need:\"))\n",
    "print(f\"{cp} Copies of {st} are {st*cp}\")\n"
   ]
  },
  {
   "cell_type": "code",
   "execution_count": 81,
   "metadata": {},
   "outputs": [
    {
     "name": "stdout",
     "output_type": "stream",
     "text": [
      "Task No 7\n",
      "Q 7) to get the difference between a given number and 17 \n",
      "\n",
      "Enter Number :45\n",
      "Difference Between 45  and 17 is : 28\n"
     ]
    }
   ],
   "source": [
    "print(\"Task No 7\\nQ 7) to get the difference between a given number and 17 \\n\")\n",
    "number=int(input(\"Enter Number :\"))\n",
    "if number <=17:\n",
    "    print(f\"Difference Between 17 and {number} is : {17-number}\")\n",
    "else:\n",
    "    print(f\"Difference Between {number}  and 17 is : {number-17}\")"
   ]
  },
  {
   "cell_type": "code",
   "execution_count": 70,
   "metadata": {},
   "outputs": [
    {
     "name": "stdout",
     "output_type": "stream",
     "text": [
      "Task No 7\n",
      "Q 7) Check if number is Even or Odd \n",
      "\n",
      "Enter Number :9\n",
      "9 is Odd\n"
     ]
    }
   ],
   "source": [
    "print(\"Task No 7\\nQ 7) Check if number is Even or Odd \\n\")\n",
    "num=int(input(\"Enter Number :\"))\n",
    "if num % 2 == 0:\n",
    "    print(f\"{num} is Even\")\n",
    "else:\n",
    "    print(f\"{num} is Odd\")"
   ]
  },
  {
   "cell_type": "code",
   "execution_count": 78,
   "metadata": {},
   "outputs": [
    {
     "name": "stdout",
     "output_type": "stream",
     "text": [
      "Task No 8\n",
      "Q 8) Vowel Tester \n",
      "\n",
      "a,e,i,o,u\n",
      "Enter a character:E\n",
      "Letter E is Vowel\n"
     ]
    }
   ],
   "source": [
    "print(\"Task No 8\\nQ 8) Vowel Tester \\n\")\n",
    "vol=\"a,e,i,o,u\"\n",
    "print(vol)\n",
    "a=input(\"Enter a character:\")\n",
    "if a.lower() in vol:\n",
    "    print(f\"Letter {a} is Vowel\")\n",
    "else:\n",
    "    print(f\"Letter {a} is Vowel\")\n"
   ]
  },
  {
   "cell_type": "code",
   "execution_count": 85,
   "metadata": {},
   "outputs": [
    {
     "name": "stdout",
     "output_type": "stream",
     "text": [
      "Tak No 9\n",
      " Triangle area Calculate \n",
      "\n",
      "Enter Base :4\n",
      "Enter Height :4\n",
      "Area Of Triangle Of Base is 4 And Height is 4 : 8\n"
     ]
    }
   ],
   "source": [
    "print(\"Tak No 9\\n Triangle area Calculate \\n\")\n",
    "base=int(input(\"Enter Base :\"))\n",
    "height=int(input(\"Enter Height :\"))\n",
    "print(f\"Area Of Triangle Of Base is {base} And Height is {height} : {(base * height)//2}\")\n"
   ]
  },
  {
   "cell_type": "code",
   "execution_count": 7,
   "metadata": {},
   "outputs": [
    {
     "name": "stdout",
     "output_type": "stream",
     "text": [
      "Task No 10 \n",
      "\n",
      "Enter Number 1 :2\n",
      "Enter Number 2 :3\n",
      "Both Number Sum Equal To 5\n"
     ]
    }
   ],
   "source": [
    "print(\"Task No 10 \\n\")\n",
    "num1 = int(input(\"Enter Number 1 :\"))\n",
    "num2 = int(input(\"Enter Number 2 :\"))\n",
    "if num1 == num2:\n",
    "    print(\"Both Number Are Equal\")\n",
    "elif num1+num2 == 5:\n",
    "    print(\"Both Number Sum Equal To 5\")\n",
    "elif abs(num1-num2) == 5:\n",
    "    print(\"Both Number Difference Equal To 5\")\n",
    "else:\n",
    "    print(\"Not Equal,Not Equal Sum equal 5 and not Difference Equal To 5\")\n",
    "   \n",
    "        "
   ]
  },
  {
   "cell_type": "code",
   "execution_count": 5,
   "metadata": {},
   "outputs": [
    {
     "name": "stdout",
     "output_type": "stream",
     "text": [
      "Task No 11 \n",
      " Equation :(x+y)*(x-y)\n",
      "\n",
      "Enter Value Of X :2\n",
      "Enter Value Of Y :5\n",
      "Result Of 2 and 5 is 49\n"
     ]
    }
   ],
   "source": [
    "print(\"Task No 11 \\n Equation :(x+y)*(x-y)\\n\")\n",
    "x=int(input(\"Enter Value Of X :\"))\n",
    "y=int(input(\"Enter Value Of Y :\"))\n",
    "z = x**2 + 2*x*y + y**2\n",
    "print(f\"Result Of {x} and {y} is {z}\")\n",
    "\n",
    "\n",
    "\n"
   ]
  },
  {
   "cell_type": "code",
   "execution_count": 24,
   "metadata": {},
   "outputs": [
    {
     "name": "stdout",
     "output_type": "stream",
     "text": [
      "Task No 12 \n",
      "Calcuate Interst \n",
      "\n",
      " Please Enter the Principal Amount : 10000\n",
      " Please Enter the Rate Of Interest   : 0.1\n",
      " Please Enter Time period in Years   : 5\n",
      "\n",
      "Simple Interest for Principal Amount 10000.0 = 16105.1\n"
     ]
    }
   ],
   "source": [
    "print(\"Task No 12 \\nCalcuate Interest \\n\")\n",
    "pr = float(input(\" Please Enter the Principal Amount : \"))\n",
    "ra = float(input(\" Please Enter the Rate Of Interest   : \"))\n",
    "ti = float(input(\" Please Enter Time period in Years   : \"))\n",
    "\n",
    "simple_interest = pr*(1+ra)**ti\n",
    "\n",
    "print(\"\\nSimple Interest for Principal Amount {0} = {1}\".format(pr, round(simple_interest,2)))"
   ]
  },
  {
   "cell_type": "code",
   "execution_count": 8,
   "metadata": {},
   "outputs": [
    {
     "name": "stdout",
     "output_type": "stream",
     "text": [
      "Task No 13 \n",
      "Euclidean distance \n",
      "\n",
      "Enter Coordinate for x1 :2\n",
      "Enter Coordinate for x2 :4\n",
      "Enter Coordinate for y1 :4\n",
      "Enter Coordinate for y2 :4\n",
      "2\n"
     ]
    }
   ],
   "source": [
    "import math\n",
    "print(\"Task No 13 \\nEuclidean distance \\n\")\n",
    "x1=int(input(\"Enter Coordinate for x1 :\"))\n",
    "x2=int(input(\"Enter Coordinate for x2 :\"))\n",
    "y1=int(input(\"Enter Coordinate for y1 :\"))\n",
    "y2=int(input(\"Enter Coordinate for y2 :\"))\n",
    "x=x2-x1\n",
    "y=y2-y1\n",
    "z= x**2 + y**2\n",
    "print(int(math.sqrt(z)))\n"
   ]
  },
  {
   "cell_type": "code",
   "execution_count": 10,
   "metadata": {},
   "outputs": [
    {
     "name": "stdout",
     "output_type": "stream",
     "text": [
      "Task No 14 \n",
      "Feet to centimetr Converter \n",
      "\n",
      "Enter Height in Feet :5\n",
      "Ther are 152.4 Cm in 5 ft\n"
     ]
    }
   ],
   "source": [
    "print(\"Task No 14 \\nFeet to centimetr Converter \\n\")\n",
    "height=int(input(\"Enter Height in Feet :\"))\n",
    "hcm=height*30.48\n",
    "print(f\"Ther are {hcm} Cm in {height} ft\")"
   ]
  },
  {
   "cell_type": "code",
   "execution_count": 18,
   "metadata": {},
   "outputs": [
    {
     "name": "stdout",
     "output_type": "stream",
     "text": [
      "Task No 15 \n",
      "BMI Calcuator \n",
      "\n",
      "Enter Height in Cm: 180\n",
      "Enter Weight in Kg: 75\n",
      "Your BMI is :23.15\n"
     ]
    }
   ],
   "source": [
    "print(\"Task No 15 \\nBMI Calcuator \\n\")\n",
    "hei = int(input(\"Enter Height in Cm: \"))\n",
    "we = int(input(\"Enter Weight in Kg: \"))\n",
    "BMI = round(we/(hei*hei)*10000,2)\n",
    "print(f\"Your BMI is :{BMI}\")"
   ]
  },
  {
   "cell_type": "code",
   "execution_count": 5,
   "metadata": {},
   "outputs": [
    {
     "name": "stdout",
     "output_type": "stream",
     "text": [
      "Task No 15 \n",
      "BMI Calcuator \n",
      "\n",
      "Enter Base Value :4\n",
      "Enter Perpendicular Value :3\n",
      "5.0\n"
     ]
    }
   ],
   "source": [
    "import math\n",
    "print(\"Task No 15 \\nBMI Calcuator \\n\")\n",
    "Base=int(input(\"Enter Base Value :\"))\n",
    "pre=int(input(\"Enter Perpendicular Value :\"))\n",
    "hyp=Base**2 + pre**2\n",
    "c=hyp**0.5\n",
    "print(c)"
   ]
  },
  {
   "cell_type": "code",
   "execution_count": 19,
   "metadata": {},
   "outputs": [
    {
     "name": "stdout",
     "output_type": "stream",
     "text": [
      "Task No 16\n",
      "Time In Second\n",
      "Enter Days :14\n",
      "Enter Hours : 6\n",
      "Enter Mintues :56\n",
      "Enter Second :5\n",
      "Days : 14days Hours : 6hrs  Mint : 56min  Second : 5sec \n",
      "Time In Second :1234565\n"
     ]
    }
   ],
   "source": [
    "print(\"Task No 16\\nTime In Second\")\n",
    "d=int(input(\"Enter Days :\"))\n",
    "h=int(input(\"Enter Hours : \"))\n",
    "m=int(input(\"Enter Mintues :\"))\n",
    "s=int(input(\"Enter Second :\"))\n",
    "ts=d*24*3600+h*3600+m*60+s\n",
    "print(f\"Days : {d}days Hours : {h}hrs  Mint : {m}min  Second : {s}sec \\nTime In Second :{ts}\")\n"
   ]
  },
  {
   "cell_type": "code",
   "execution_count": 3,
   "metadata": {},
   "outputs": [
    {
     "name": "stdout",
     "output_type": "stream",
     "text": [
      "Input time in seconds: 1234565\n",
      "14 6 56 5\n"
     ]
    }
   ],
   "source": [
    "print(\"Task No 17\\nTime In Day Hour Mint Second\")\n",
    "time = float(input(\"Input time in seconds: \"))\n",
    "day=int(time//(24*3600))\n",
    "time=time%(24*3600)\n",
    "hr=int(time//3600)\n",
    "time=time%3600\n",
    "min=int(time//60)\n",
    "time=time%60\n",
    "sec=int(time)\n",
    "print(day,hr,min,sec)"
   ]
  },
  {
   "cell_type": "code",
   "execution_count": 11,
   "metadata": {},
   "outputs": [
    {
     "name": "stdout",
     "output_type": "stream",
     "text": [
      "Task No 18\n",
      "temperatures to and from Celsius, Fahrenheit\n",
      "Select Operation \n",
      "1)Celsius To Fahrenheit\n",
      "2)Fahrenheit To Celsius\n",
      " Select : 2\n",
      "Enter Temperature in Fahrenheit : 132.8\n",
      "56.00000000000001\n"
     ]
    }
   ],
   "source": [
    "print(\"Task No 18\\ntemperatures to and from Celsius, Fahrenheit\")\n",
    "sel=int(input(\"Select Operation \\n1)Celsius To Fahrenheit\\n2)Fahrenheit To Celsius\\n Select : \"))\n",
    "\n",
    "if sel== 1:\n",
    "    a=float(input(\"Enter Temperature in Celsius : \"))\n",
    "    cel=(a * 9/5) + 32\n",
    "    print(cel)\n",
    "    \n",
    "elif sel== 2:\n",
    "    a=float(input(\"Enter Temperature in Fahrenheit : \"))\n",
    "    feh=(a-32)*5/9\n",
    "    print(feh)\n",
    "\n",
    "else:\n",
    "    print(\"Please Select Correct Operation \")"
   ]
  },
  {
   "cell_type": "code",
   "execution_count": 21,
   "metadata": {},
   "outputs": [
    {
     "name": "stdout",
     "output_type": "stream",
     "text": [
      "Task No 19\n",
      "sum of the first n positive integers\n",
      "Enter Number :5\n",
      "sum of the first 5 positive integers : 15\n"
     ]
    }
   ],
   "source": [
    "print(\"Task No 19\\nsum of the first n positive integers\")\n",
    "sum=0\n",
    "num=int(input(\"Enter Number :\"))\n",
    "for i in range(1,num+1):\n",
    "    sum=sum+i\n",
    "    \n",
    "print(f\"sum of the first {num} positive integers : {sum}\")"
   ]
  },
  {
   "cell_type": "code",
   "execution_count": 34,
   "metadata": {},
   "outputs": [
    {
     "name": "stdout",
     "output_type": "stream",
     "text": [
      "Task No 20\n",
      "calculate the sum of the digits in an integer\n",
      "Enter Digit In Integer :1234\n",
      "Result Of 1234 Sum is Equal To : 10\n"
     ]
    }
   ],
   "source": [
    "sum=0\n",
    "print(\"Task No 20\\ncalculate the sum of the digits in an integer\")\n",
    "num=(input(\"Enter Digit In Integer :\"))\n",
    "for i in range(0,len(num)):\n",
    "    sum=sum+int(num[i])\n",
    "print(f\"Result Of {num} Sum is Equal To : {sum}\")"
   ]
  },
  {
   "cell_type": "code",
   "execution_count": 37,
   "metadata": {},
   "outputs": [
    {
     "name": "stdout",
     "output_type": "stream",
     "text": [
      "Enter a decimal number: 20\n",
      "0b10100 in binary.\n",
      "0o24 in octal.\n",
      "0x14 in hexadecimal.\n"
     ]
    }
   ],
   "source": [
    "print(\"Task No 21\\n\")\n",
    "dec = int(input(\"Enter a decimal number: \"))  \n",
    "  \n",
    "print(bin(dec),\"in binary.\")  \n",
    "print(oct(dec),\"in octal.\")  \n",
    "print(hex(dec),\"in hexadecimal.\" ) "
   ]
  },
  {
   "cell_type": "code",
   "execution_count": 48,
   "metadata": {},
   "outputs": [
    {
     "name": "stdout",
     "output_type": "stream",
     "text": [
      "Task No 19\n",
      "Vowel and Consonats Counter\n",
      "Enter Text :QuickBrownFoxJumpsovertheDog\n",
      "Volwels :9\n",
      "Constant :19\n"
     ]
    }
   ],
   "source": [
    "print(\"Task No 22\\nVowel and Consonats Counter\")\n",
    "vol=0\n",
    "const=0\n",
    "string=input(\"Enter Text :\")\n",
    "for i in range(0,len(string)):\n",
    "    if string[i].lower() == \"a\" or string[i].lower() == \"e\" or string[i].lower() == \"i\" or string[i].lower() == \"o\" or string[i].lower() == \"u\":\n",
    "        vol += 1\n",
    "    else:\n",
    "        const +=1\n",
    "print(f\"Volwels :{vol}\")\n",
    "print(f\"Constant :{const}\")"
   ]
  },
  {
   "cell_type": "code",
   "execution_count": 23,
   "metadata": {},
   "outputs": [
    {
     "name": "stdout",
     "output_type": "stream",
     "text": [
      "Task No 23\n",
      "input is palindrome or not\n",
      "Enter String :Madam\n",
      "This String Is Palindrome \n"
     ]
    }
   ],
   "source": [
    "print(\"Task No 23\\ninput is palindrome or not\")\n",
    "string=input(\"Enter String :\")\n",
    "if string[::-1].lower() == string.lower() :\n",
    "    print(\"This String Is Palindrome \")\n",
    "else:\n",
    "    print(\"This String Is Not Palindrome \")\n",
    "    \n"
   ]
  },
  {
   "cell_type": "code",
   "execution_count": 26,
   "metadata": {},
   "outputs": [
    {
     "name": "stdout",
     "output_type": "stream",
     "text": [
      "Task No 24\n",
      "Fibonacci series : \n",
      "Enter length of fabbonic series :10\n",
      "0,1,1,2,3,5,8,13,21,34,55,"
     ]
    }
   ],
   "source": [
    "print(\"Task No 24\\nFibonacci series : \")\n",
    "n=int(input(\"Enter length of fabbonic series :\"))\n",
    "a=0\n",
    "b=1\n",
    "print(a,end=\",\")\n",
    "for i in range(0,n):\n",
    "    fb=a+b\n",
    "    print(fb,end=\",\")\n",
    "    b=a\n",
    "    a=fb\n",
    "    "
   ]
  },
  {
   "cell_type": "code",
   "execution_count": 30,
   "metadata": {},
   "outputs": [
    {
     "name": "stdout",
     "output_type": "stream",
     "text": [
      "Enter To start Print Table :2\n",
      "Enter To End Table Number :10\n",
      "\n",
      " Table of 2 \n",
      "\n",
      "2 * 1 = 2\n",
      "2 * 2 = 4\n",
      "2 * 3 = 6\n",
      "2 * 4 = 8\n",
      "2 * 5 = 10\n",
      "2 * 6 = 12\n",
      "2 * 7 = 14\n",
      "2 * 8 = 16\n",
      "2 * 9 = 18\n",
      "2 * 10 = 20\n",
      "\n",
      " Table of 3 \n",
      "\n",
      "3 * 1 = 3\n",
      "3 * 2 = 6\n",
      "3 * 3 = 9\n",
      "3 * 4 = 12\n",
      "3 * 5 = 15\n",
      "3 * 6 = 18\n",
      "3 * 7 = 21\n",
      "3 * 8 = 24\n",
      "3 * 9 = 27\n",
      "3 * 10 = 30\n",
      "\n",
      " Table of 4 \n",
      "\n",
      "4 * 1 = 4\n",
      "4 * 2 = 8\n",
      "4 * 3 = 12\n",
      "4 * 4 = 16\n",
      "4 * 5 = 20\n",
      "4 * 6 = 24\n",
      "4 * 7 = 28\n",
      "4 * 8 = 32\n",
      "4 * 9 = 36\n",
      "4 * 10 = 40\n",
      "\n",
      " Table of 5 \n",
      "\n",
      "5 * 1 = 5\n",
      "5 * 2 = 10\n",
      "5 * 3 = 15\n",
      "5 * 4 = 20\n",
      "5 * 5 = 25\n",
      "5 * 6 = 30\n",
      "5 * 7 = 35\n",
      "5 * 8 = 40\n",
      "5 * 9 = 45\n",
      "5 * 10 = 50\n",
      "\n",
      " Table of 6 \n",
      "\n",
      "6 * 1 = 6\n",
      "6 * 2 = 12\n",
      "6 * 3 = 18\n",
      "6 * 4 = 24\n",
      "6 * 5 = 30\n",
      "6 * 6 = 36\n",
      "6 * 7 = 42\n",
      "6 * 8 = 48\n",
      "6 * 9 = 54\n",
      "6 * 10 = 60\n",
      "\n",
      " Table of 7 \n",
      "\n",
      "7 * 1 = 7\n",
      "7 * 2 = 14\n",
      "7 * 3 = 21\n",
      "7 * 4 = 28\n",
      "7 * 5 = 35\n",
      "7 * 6 = 42\n",
      "7 * 7 = 49\n",
      "7 * 8 = 56\n",
      "7 * 9 = 63\n",
      "7 * 10 = 70\n",
      "\n",
      " Table of 8 \n",
      "\n",
      "8 * 1 = 8\n",
      "8 * 2 = 16\n",
      "8 * 3 = 24\n",
      "8 * 4 = 32\n",
      "8 * 5 = 40\n",
      "8 * 6 = 48\n",
      "8 * 7 = 56\n",
      "8 * 8 = 64\n",
      "8 * 9 = 72\n",
      "8 * 10 = 80\n",
      "\n",
      " Table of 9 \n",
      "\n",
      "9 * 1 = 9\n",
      "9 * 2 = 18\n",
      "9 * 3 = 27\n",
      "9 * 4 = 36\n",
      "9 * 5 = 45\n",
      "9 * 6 = 54\n",
      "9 * 7 = 63\n",
      "9 * 8 = 72\n",
      "9 * 9 = 81\n",
      "9 * 10 = 90\n",
      "\n",
      " Table of 10 \n",
      "\n",
      "10 * 1 = 10\n",
      "10 * 2 = 20\n",
      "10 * 3 = 30\n",
      "10 * 4 = 40\n",
      "10 * 5 = 50\n",
      "10 * 6 = 60\n",
      "10 * 7 = 70\n",
      "10 * 8 = 80\n",
      "10 * 9 = 90\n",
      "10 * 10 = 100\n"
     ]
    }
   ],
   "source": [
    "a=int(input(\"Enter To start Print Table :\"))\n",
    "b=int(input(\"Enter To End Table Number :\"))\n",
    "if a<b:\n",
    "    for i in range(a,b+1):\n",
    "        print(f\"\\n Table of {i} \\n\")\n",
    "        for j in range(1,11):\n",
    "            print(f\"{i} * {j} = {i*j}\")\n"
   ]
  },
  {
   "cell_type": "code",
   "execution_count": 32,
   "metadata": {},
   "outputs": [
    {
     "name": "stdout",
     "output_type": "stream",
     "text": [
      "Input a string :zubair 786\n",
      "Letters 6\n",
      "Digits 3\n"
     ]
    }
   ],
   "source": [
    "s= input(\"Input a string :\")\n",
    "d=l=0\n",
    "for c in s:\n",
    "    if c.isdigit():\n",
    "        d=d+1\n",
    "    elif c.isalpha():\n",
    "        l=l+1\n",
    "    else:\n",
    "        pass\n",
    "print(\"Letters\", l)\n",
    "print(\"Digits\", d)"
   ]
  },
  {
   "cell_type": "code",
   "execution_count": null,
   "metadata": {},
   "outputs": [],
   "source": []
  }
 ],
 "metadata": {
  "kernelspec": {
   "display_name": "Python 3",
   "language": "python",
   "name": "python3"
  },
  "language_info": {
   "codemirror_mode": {
    "name": "ipython",
    "version": 3
   },
   "file_extension": ".py",
   "mimetype": "text/x-python",
   "name": "python",
   "nbconvert_exporter": "python",
   "pygments_lexer": "ipython3",
   "version": "3.7.4"
  }
 },
 "nbformat": 4,
 "nbformat_minor": 2
}
