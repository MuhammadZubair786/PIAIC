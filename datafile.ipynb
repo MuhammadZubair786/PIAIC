{
 "cells": [
  {
   "cell_type": "markdown",
   "metadata": {},
   "source": [
    "# Data File\n",
    "# Mode\n",
    "# 1)Read \n",
    "# 2)Write\n",
    "# 3)Append\n",
    "# 4)w+\n",
    "# 5)r+"
   ]
  },
  {
   "cell_type": "code",
   "execution_count": 7,
   "metadata": {},
   "outputs": [],
   "source": [
    "with open(\"Mytxt.txt\",\"w\") as file:\n",
    "    file.write(\"DATA FILE IN WRITE MODE\")"
   ]
  },
  {
   "cell_type": "code",
   "execution_count": 8,
   "metadata": {},
   "outputs": [
    {
     "name": "stdout",
     "output_type": "stream",
     "text": [
      "DATA FILE IN WRITE MODE\n"
     ]
    }
   ],
   "source": [
    "with open(\"Mytxt.txt\",\"r\") as file:\n",
    "    a=file.read()\n",
    "print(a)"
   ]
  },
  {
   "cell_type": "code",
   "execution_count": 9,
   "metadata": {},
   "outputs": [
    {
     "name": "stdout",
     "output_type": "stream",
     "text": [
      "DATA FILE IN WRITE MODE\n"
     ]
    }
   ],
   "source": [
    "with open(\"Mytxt.txt\",\"r\") as file:\n",
    "    a=file.read()\n",
    "    \n",
    "    print(a)"
   ]
  },
  {
   "cell_type": "code",
   "execution_count": 13,
   "metadata": {},
   "outputs": [
    {
     "name": "stdout",
     "output_type": "stream",
     "text": [
      "D,A,T,A, ,F,I,L,E, ,I,N, ,W,R,I,T,E, ,M,O,D,E,"
     ]
    }
   ],
   "source": [
    "with open(\"Mytxt.txt\",\"r\") as file:\n",
    "    a=file.read()\n",
    "    for i in range(0,len(a)):\n",
    "        print(a[i],end=\",\")"
   ]
  },
  {
   "cell_type": "code",
   "execution_count": 14,
   "metadata": {},
   "outputs": [],
   "source": [
    "with open(\"Mytxt.txt\",\"w\") as file:\n",
    "    file.write(\"Precious Text Removed\")\n",
    "    "
   ]
  },
  {
   "cell_type": "code",
   "execution_count": 16,
   "metadata": {},
   "outputs": [
    {
     "name": "stdout",
     "output_type": "stream",
     "text": [
      "Precious Text Removed\n"
     ]
    }
   ],
   "source": [
    "with open(\"Mytxt.txt\",\"r\") as file:\n",
    "    a=file.read()\n",
    "    print(a)"
   ]
  },
  {
   "cell_type": "code",
   "execution_count": 17,
   "metadata": {},
   "outputs": [],
   "source": [
    "with open(\"Mytxt.txt\",\"a\") as file:\n",
    "    file.write(\" Append New Data In File\")"
   ]
  },
  {
   "cell_type": "code",
   "execution_count": 18,
   "metadata": {},
   "outputs": [
    {
     "name": "stdout",
     "output_type": "stream",
     "text": [
      "Precious Text Removed Append New Data In File\n"
     ]
    }
   ],
   "source": [
    "with open(\"Mytxt.txt\",\"r\") as file:\n",
    "    a=file.read()\n",
    "    print(a)"
   ]
  },
  {
   "cell_type": "code",
   "execution_count": 23,
   "metadata": {},
   "outputs": [
    {
     "name": "stdout",
     "output_type": "stream",
     "text": [
      "New File Created And Read Mode \n"
     ]
    }
   ],
   "source": [
    "with open(\"txt.txt\",\"w+\") as file:\n",
    "    file.write(\"New File Created And Read Mode \")\n",
    "    file.seek(0)\n",
    "    print(file.read())"
   ]
  },
  {
   "cell_type": "code",
   "execution_count": 50,
   "metadata": {},
   "outputs": [
    {
     "name": "stdout",
     "output_type": "stream",
     "text": [
      "Counting 0 To 101:\n",
      " [0, 1, 2, 3, 4, 5, 6, 7, 8, 9, 10, 11, 12, 13, 14, 15, 16, 17, 18, 19, 20, 21, 22, 23, 24, 25, 26, 27, 28, 29, 30, 31, 32, 33, 34, 35, 36, 37, 38, 39, 40, 41, 42, 43, 44, 45, 46, 47, 48, 49, 50, 51, 52, 53, 54, 55, 56, 57, 58, 59, 60, 61, 62, 63, 64, 65, 66, 67, 68, 69, 70, 71, 72, 73, 74, 75, 76, 77, 78, 79, 80, 81, 82, 83, 84, 85, 86, 87, 88, 89, 90, 91, 92, 93, 94, 95, 96, 97, 98, 99, 100]\n"
     ]
    }
   ],
   "source": [
    "with open(\"loop.txt\",\"w+\") as file:\n",
    "    file.write(\"Counting 0 To 101:\\n\")\n",
    "    lst=[]\n",
    "    even=[]\n",
    "    odd=[]\n",
    "    \n",
    "    \n",
    "    for i in range(0,101):\n",
    "        lst.append(i)\n",
    "    file.write(f\" {lst}\")\n",
    "    file.seek(0)\n",
    "    print(file.read())\n",
    "    \n",
    "    \n",
    "    for i in range(0,101):\n",
    "        if (i%2==0):\n",
    "            even.append(i)\n",
    "    \n",
    "    \n",
    "    for i in range(0,101):\n",
    "        if (i%2==0):\n",
    "            continue\n",
    "        else:\n",
    "            odd.append(i)\n",
    "    \n",
    "    file.write(f\"\\n\\nEven Number List Range 0 T0 100:\\n  {even}\")\n",
    "    \n",
    "    file.write(f\"\\n\\nOdd Number List Range 0 T0 100:\\n  {odd}\")\n",
    "\n",
    "    \n",
    "    \n",
    "    \n",
    "        "
   ]
  },
  {
   "cell_type": "code",
   "execution_count": null,
   "metadata": {},
   "outputs": [],
   "source": []
  }
 ],
 "metadata": {
  "kernelspec": {
   "display_name": "Python 3",
   "language": "python",
   "name": "python3"
  },
  "language_info": {
   "codemirror_mode": {
    "name": "ipython",
    "version": 3
   },
   "file_extension": ".py",
   "mimetype": "text/x-python",
   "name": "python",
   "nbconvert_exporter": "python",
   "pygments_lexer": "ipython3",
   "version": "3.7.4"
  }
 },
 "nbformat": 4,
 "nbformat_minor": 2
}
